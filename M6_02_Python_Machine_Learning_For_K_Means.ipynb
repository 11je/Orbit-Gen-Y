{
  "nbformat": 4,
  "nbformat_minor": 0,
  "metadata": {
    "colab": {
      "name": "Intan_Latihan Python  Machine Learning For K-Means.ipynb",
      "provenance": [],
      "collapsed_sections": []
    },
    "kernelspec": {
      "name": "python3",
      "display_name": "Python 3"
    },
    "language_info": {
      "name": "python"
    }
  },
  "cells": [
    {
      "cell_type": "markdown",
      "metadata": {
        "id": "fdTuTB_lhyav"
      },
      "source": [
        "**Latihan Algoritma K-Means [Selasa, 28 Sept 2021]**"
      ]
    },
    {
      "cell_type": "code",
      "metadata": {
        "colab": {
          "base_uri": "https://localhost:8080/"
        },
        "id": "K62VIiv2hLdu",
        "outputId": "69d6a9c8-a17d-40ca-ee9f-32ecee8b1119"
      },
      "source": [
        "# Import data dari Github\n",
        "\n",
        "!wget -O konsumen2.csv https://raw.githubusercontent.com/jumadi-cloud/Fundamental-Python/main/Dataset/konsumen2.csv"
      ],
      "execution_count": 24,
      "outputs": [
        {
          "output_type": "stream",
          "name": "stdout",
          "text": [
            "--2021-09-28 15:41:29--  https://raw.githubusercontent.com/jumadi-cloud/Fundamental-Python/main/Dataset/konsumen2.csv\n",
            "Resolving raw.githubusercontent.com (raw.githubusercontent.com)... 185.199.108.133, 185.199.109.133, 185.199.110.133, ...\n",
            "Connecting to raw.githubusercontent.com (raw.githubusercontent.com)|185.199.108.133|:443... connected.\n",
            "HTTP request sent, awaiting response... 200 OK\n",
            "Length: 239 [text/plain]\n",
            "Saving to: ‘konsumen2.csv’\n",
            "\n",
            "\rkonsumen2.csv         0%[                    ]       0  --.-KB/s               \rkonsumen2.csv       100%[===================>]     239  --.-KB/s    in 0s      \n",
            "\n",
            "2021-09-28 15:41:29 (14.7 MB/s) - ‘konsumen2.csv’ saved [239/239]\n",
            "\n"
          ]
        }
      ]
    },
    {
      "cell_type": "code",
      "metadata": {
        "colab": {
          "base_uri": "https://localhost:8080/"
        },
        "id": "NzBpW5XGiWf3",
        "outputId": "819db548-9f7e-447f-f3fc-84111da39ef1"
      },
      "source": [
        "# Lihat isi folder, untuk mengecek apakah dataset sudah masuk\n",
        "\n",
        "!ls"
      ],
      "execution_count": 25,
      "outputs": [
        {
          "output_type": "stream",
          "name": "stdout",
          "text": [
            "gaji.csv  konsumen2.csv  sample_data\n"
          ]
        }
      ]
    },
    {
      "cell_type": "code",
      "metadata": {
        "id": "5Bu9PSL3ihIh"
      },
      "source": [
        "# Import library\n",
        "\n",
        "import matplotlib.pyplot as plt     # Matplotlib, untuk membuat grafik plot \n",
        "import numpy as np                  # Numpy, untuk kebutuhan scientific\n",
        "import pandas as pd                 # Pandas, untuk manipulasi data\n",
        "from sklearn.cluster import KMeans  # SKlearn, untuk Algoritma KMean"
      ],
      "execution_count": 26,
      "outputs": []
    },
    {
      "cell_type": "code",
      "metadata": {
        "colab": {
          "base_uri": "https://localhost:8080/"
        },
        "id": "bPLFf_GUi_kZ",
        "outputId": "cc42453f-0020-4444-815a-7c40a7968792"
      },
      "source": [
        "# Prepare dataset\n",
        "\n",
        "Dataset = pd.read_csv('https://raw.githubusercontent.com/jumadi-cloud/Fundamental-Python/main/Dataset/konsumen2.csv', error_bad_lines=False)\n",
        "Dataset.keys()"
      ],
      "execution_count": 27,
      "outputs": [
        {
          "output_type": "execute_result",
          "data": {
            "text/plain": [
              "Index(['Gaji', 'Pengeluaran'], dtype='object')"
            ]
          },
          "metadata": {},
          "execution_count": 27
        }
      ]
    },
    {
      "cell_type": "code",
      "metadata": {
        "colab": {
          "base_uri": "https://localhost:8080/",
          "height": 204
        },
        "id": "-fFfqg3SjGFY",
        "outputId": "03b170a8-9af2-4841-c2b9-388f12737abc"
      },
      "source": [
        "# Menampilkan 5 data pertama dalam dataset\n",
        "\n",
        "Dataku = pd.DataFrame(Dataset)\n",
        "Dataku.head()"
      ],
      "execution_count": 28,
      "outputs": [
        {
          "output_type": "execute_result",
          "data": {
            "text/html": [
              "<div>\n",
              "<style scoped>\n",
              "    .dataframe tbody tr th:only-of-type {\n",
              "        vertical-align: middle;\n",
              "    }\n",
              "\n",
              "    .dataframe tbody tr th {\n",
              "        vertical-align: top;\n",
              "    }\n",
              "\n",
              "    .dataframe thead th {\n",
              "        text-align: right;\n",
              "    }\n",
              "</style>\n",
              "<table border=\"1\" class=\"dataframe\">\n",
              "  <thead>\n",
              "    <tr style=\"text-align: right;\">\n",
              "      <th></th>\n",
              "      <th>Gaji</th>\n",
              "      <th>Pengeluaran</th>\n",
              "    </tr>\n",
              "  </thead>\n",
              "  <tbody>\n",
              "    <tr>\n",
              "      <th>0</th>\n",
              "      <td>2500</td>\n",
              "      <td>1750</td>\n",
              "    </tr>\n",
              "    <tr>\n",
              "      <th>1</th>\n",
              "      <td>3800</td>\n",
              "      <td>4200</td>\n",
              "    </tr>\n",
              "    <tr>\n",
              "      <th>2</th>\n",
              "      <td>3900</td>\n",
              "      <td>3800</td>\n",
              "    </tr>\n",
              "    <tr>\n",
              "      <th>3</th>\n",
              "      <td>4350</td>\n",
              "      <td>5500</td>\n",
              "    </tr>\n",
              "    <tr>\n",
              "      <th>4</th>\n",
              "      <td>4400</td>\n",
              "      <td>3200</td>\n",
              "    </tr>\n",
              "  </tbody>\n",
              "</table>\n",
              "</div>"
            ],
            "text/plain": [
              "   Gaji  Pengeluaran\n",
              "0  2500         1750\n",
              "1  3800         4200\n",
              "2  3900         3800\n",
              "3  4350         5500\n",
              "4  4400         3200"
            ]
          },
          "metadata": {},
          "execution_count": 28
        }
      ]
    },
    {
      "cell_type": "code",
      "metadata": {
        "colab": {
          "base_uri": "https://localhost:8080/"
        },
        "id": "9w0GYdCfjPoF",
        "outputId": "1ee8574c-6135-4f69-8bb7-e308c3b1bd26"
      },
      "source": [
        "# Konversi ke data array\n",
        "\n",
        "x = np.array(Dataset)\n",
        "print(x)"
      ],
      "execution_count": 29,
      "outputs": [
        {
          "output_type": "stream",
          "name": "stdout",
          "text": [
            "[[ 2500  1750]\n",
            " [ 3800  4200]\n",
            " [ 3900  3800]\n",
            " [ 4350  5500]\n",
            " [ 4400  3200]\n",
            " [ 5500  5450]\n",
            " [ 5600  5950]\n",
            " [ 5750  4100]\n",
            " [ 6850  6050]\n",
            " [ 6900  8500]\n",
            " [ 7250  9500]\n",
            " [ 7350  6050]\n",
            " [ 7500  8500]\n",
            " [ 7800  9500]\n",
            " [ 8200  8300]\n",
            " [ 8500  6500]\n",
            " [ 8550  8400]\n",
            " [ 8750  6000]\n",
            " [ 9100 10500]\n",
            " [ 9100  8500]]\n"
          ]
        }
      ]
    },
    {
      "cell_type": "code",
      "metadata": {
        "colab": {
          "base_uri": "https://localhost:8080/",
          "height": 295
        },
        "id": "CkmHcOB8jb4k",
        "outputId": "c53315f4-490b-474e-d3f8-2a632eae2130"
      },
      "source": [
        "# Menampilkan data scatter plot\n",
        "\n",
        "plt.scatter(x[:,0], x[:,1], Label='True Position')\n",
        "plt.xlabel('Gaji')\n",
        "plt.ylabel('Pengeluaran')\n",
        "plt.title('Grafik Konsumen')\n",
        "plt.show()"
      ],
      "execution_count": 30,
      "outputs": [
        {
          "output_type": "display_data",
          "data": {
            "image/png": "[encoded data removed]",
            "text/plain": [
              "<Figure size 432x288 with 1 Axes>"
            ]
          },
          "metadata": {
            "needs_background": "light"
          }
        }
      ]
    },
    {
      "cell_type": "code",
      "metadata": {
        "colab": {
          "base_uri": "https://localhost:8080/"
        },
        "id": "YME0LMwcji_9",
        "outputId": "a7e5bb9c-4068-496e-b94a-8fda74161292"
      },
      "source": [
        "# Mulai masuk algoritma K-Means\n",
        "\n",
        "kmeans=KMeans(n_clusters=2)\n",
        "kmeans.fit(x)"
      ],
      "execution_count": 31,
      "outputs": [
        {
          "output_type": "execute_result",
          "data": {
            "text/plain": [
              "KMeans(algorithm='auto', copy_x=True, init='k-means++', max_iter=300,\n",
              "       n_clusters=2, n_init=10, n_jobs=None, precompute_distances='auto',\n",
              "       random_state=None, tol=0.0001, verbose=0)"
            ]
          },
          "metadata": {},
          "execution_count": 31
        }
      ]
    },
    {
      "cell_type": "code",
      "metadata": {
        "colab": {
          "base_uri": "https://localhost:8080/"
        },
        "id": "_WCWNXEVjwiZ",
        "outputId": "c0415579-9377-4bb1-a724-2f6c82c083f3"
      },
      "source": [
        "# menampilkan nilai centroid, generate oleh algoritma\n",
        "\n",
        "print(kmeans.cluster_centers_)"
      ],
      "execution_count": 32,
      "outputs": [
        {
          "output_type": "stream",
          "name": "stdout",
          "text": [
            "[[4475.   4243.75]\n",
            " [7987.5  8025.  ]]\n"
          ]
        }
      ]
    },
    {
      "cell_type": "code",
      "metadata": {
        "colab": {
          "base_uri": "https://localhost:8080/"
        },
        "id": "uUJNh6_Vj6A2",
        "outputId": "d8587753-1796-4f56-dd71-f80d36c9cb00"
      },
      "source": [
        "# Meanmpilakn label data poin\n",
        "\n",
        "print(kmeans.labels_)"
      ],
      "execution_count": 33,
      "outputs": [
        {
          "output_type": "stream",
          "name": "stdout",
          "text": [
            "[0 0 0 0 0 0 0 0 1 1 1 1 1 1 1 1 1 1 1 1]\n"
          ]
        }
      ]
    },
    {
      "cell_type": "code",
      "metadata": {
        "colab": {
          "base_uri": "https://localhost:8080/",
          "height": 295
        },
        "id": "TH5YQnskkAU-",
        "outputId": "3eb3d8b9-bde7-4430-f2ab-995b09e11b90"
      },
      "source": [
        "# Output klaterisasi\n",
        "\n",
        "plt.scatter(x[:,0],x[:,1], c=kmeans.labels_, cmap='rainbow')\n",
        "plt.xlabel(\"Gaji\")\n",
        "plt.ylabel(\"Pengeluaran\")\n",
        "plt.title(\"Grafik konsumen\")\n",
        "plt.show()"
      ],
      "execution_count": 34,
      "outputs": [
        {
          "output_type": "display_data",
          "data": {
            "image/png": "[encoded data removed]",
            "text/plain": [
              "<Figure size 432x288 with 1 Axes>"
            ]
          },
          "metadata": {
            "needs_background": "light"
          }
        }
      ]
    },
    {
      "cell_type": "code",
      "metadata": {
        "colab": {
          "base_uri": "https://localhost:8080/",
          "height": 295
        },
        "id": "Rk_v6AhrkXi-",
        "outputId": "95bcaa71-3ef1-4a30-dbbf-c2e5ed6ac4e8"
      },
      "source": [
        "# Visualisasi cluster dengan cenroid(hitam)\n",
        "\n",
        "plt.scatter(x[:,0],x[:,1], c=kmeans.labels_, cmap='rainbow')\n",
        "plt.scatter(kmeans.cluster_centers_[:,0], kmeans.cluster_centers_[:,1], color='black')\n",
        "plt.xlabel(\"Gaji\")\n",
        "plt.ylabel(\"Pengeluaran\")\n",
        "plt.title(\"Grafik konsumen\")\n",
        "plt.show()"
      ],
      "execution_count": 35,
      "outputs": [
        {
          "output_type": "display_data",
          "data": {
            "image/png": "[encoded data removed]",
            "text/plain": [
              "<Figure size 432x288 with 1 Axes>"
            ]
          },
          "metadata": {
            "needs_background": "light"
          }
        }
      ]
    },
    {
      "cell_type": "markdown",
      "metadata": {
        "id": "430w7zJLknFD"
      },
      "source": [
        "# **2.**"
      ]
    },
    {
      "cell_type": "code",
      "metadata": {
        "colab": {
          "base_uri": "https://localhost:8080/"
        },
        "id": "GpE9jZAwkumR",
        "outputId": "9d89913d-e51c-4ac3-eba9-565ff5fe595a"
      },
      "source": [
        "# Import dataset\n",
        "\n",
        "!wget -O gaji.csv https://raw.githubusercontent.com/jumadi-cloud/Fundamental-Python/main/Dataset/datagaji1.csv"
      ],
      "execution_count": 36,
      "outputs": [
        {
          "output_type": "stream",
          "name": "stdout",
          "text": [
            "--2021-09-28 15:41:31--  https://raw.githubusercontent.com/jumadi-cloud/Fundamental-Python/main/Dataset/datagaji1.csv\n",
            "Resolving raw.githubusercontent.com (raw.githubusercontent.com)... 185.199.108.133, 185.199.109.133, 185.199.110.133, ...\n",
            "Connecting to raw.githubusercontent.com (raw.githubusercontent.com)|185.199.108.133|:443... connected.\n",
            "HTTP request sent, awaiting response... 200 OK\n",
            "Length: 456 [text/plain]\n",
            "Saving to: ‘gaji.csv’\n",
            "\n",
            "\rgaji.csv              0%[                    ]       0  --.-KB/s               \rgaji.csv            100%[===================>]     456  --.-KB/s    in 0s      \n",
            "\n",
            "2021-09-28 15:41:31 (18.7 MB/s) - ‘gaji.csv’ saved [456/456]\n",
            "\n"
          ]
        }
      ]
    },
    {
      "cell_type": "code",
      "metadata": {
        "colab": {
          "base_uri": "https://localhost:8080/"
        },
        "id": "H8N1VcWbl0yI",
        "outputId": "c499c90d-3d5a-4ae8-8eea-f3f7118366a7"
      },
      "source": [
        "# Cek ketersediaan dataset\n",
        "\n",
        "!ls"
      ],
      "execution_count": 37,
      "outputs": [
        {
          "output_type": "stream",
          "name": "stdout",
          "text": [
            "gaji.csv  konsumen2.csv  sample_data\n"
          ]
        }
      ]
    },
    {
      "cell_type": "code",
      "metadata": {
        "colab": {
          "base_uri": "https://localhost:8080/"
        },
        "id": "X5CgeWuCl9qj",
        "outputId": "f714882d-ef14-4f07-ee49-5d16dd37a908"
      },
      "source": [
        "# Prepare dataset\n",
        "\n",
        "gaji = pd.read_csv('https://raw.githubusercontent.com/jumadi-cloud/Fundamental-Python/main/Dataset/datagaji1.csv', error_bad_lines=False)\n",
        "gaji.keys()"
      ],
      "execution_count": 38,
      "outputs": [
        {
          "output_type": "execute_result",
          "data": {
            "text/plain": [
              "Index(['Tahun', 'Gaji'], dtype='object')"
            ]
          },
          "metadata": {},
          "execution_count": 38
        }
      ]
    },
    {
      "cell_type": "code",
      "metadata": {
        "colab": {
          "base_uri": "https://localhost:8080/",
          "height": 204
        },
        "id": "W-QYhzimmLmE",
        "outputId": "51fc9124-5637-4bb1-a27b-78b71d0acad7"
      },
      "source": [
        "# Menampilkan 5 data pertama dalam dataset\n",
        "\n",
        "df = pd.DataFrame(gaji)\n",
        "df.head()"
      ],
      "execution_count": 39,
      "outputs": [
        {
          "output_type": "execute_result",
          "data": {
            "text/html": [
              "<div>\n",
              "<style scoped>\n",
              "    .dataframe tbody tr th:only-of-type {\n",
              "        vertical-align: middle;\n",
              "    }\n",
              "\n",
              "    .dataframe tbody tr th {\n",
              "        vertical-align: top;\n",
              "    }\n",
              "\n",
              "    .dataframe thead th {\n",
              "        text-align: right;\n",
              "    }\n",
              "</style>\n",
              "<table border=\"1\" class=\"dataframe\">\n",
              "  <thead>\n",
              "    <tr style=\"text-align: right;\">\n",
              "      <th></th>\n",
              "      <th>Tahun</th>\n",
              "      <th>Gaji</th>\n",
              "    </tr>\n",
              "  </thead>\n",
              "  <tbody>\n",
              "    <tr>\n",
              "      <th>0</th>\n",
              "      <td>5.1</td>\n",
              "      <td>66029</td>\n",
              "    </tr>\n",
              "    <tr>\n",
              "      <th>1</th>\n",
              "      <td>5.3</td>\n",
              "      <td>83088</td>\n",
              "    </tr>\n",
              "    <tr>\n",
              "      <th>2</th>\n",
              "      <td>5.9</td>\n",
              "      <td>81363</td>\n",
              "    </tr>\n",
              "    <tr>\n",
              "      <th>3</th>\n",
              "      <td>6.0</td>\n",
              "      <td>93940</td>\n",
              "    </tr>\n",
              "    <tr>\n",
              "      <th>4</th>\n",
              "      <td>6.8</td>\n",
              "      <td>91738</td>\n",
              "    </tr>\n",
              "  </tbody>\n",
              "</table>\n",
              "</div>"
            ],
            "text/plain": [
              "   Tahun   Gaji\n",
              "0    5.1  66029\n",
              "1    5.3  83088\n",
              "2    5.9  81363\n",
              "3    6.0  93940\n",
              "4    6.8  91738"
            ]
          },
          "metadata": {},
          "execution_count": 39
        }
      ]
    },
    {
      "cell_type": "code",
      "metadata": {
        "colab": {
          "base_uri": "https://localhost:8080/"
        },
        "id": "idqhQaYAmVdX",
        "outputId": "ec233cc4-e0e7-49b6-8471-4d7c5549189f"
      },
      "source": [
        "# Konversi ke data array\n",
        "\n",
        "a = np.array(gaji)\n",
        "print(a)"
      ],
      "execution_count": 40,
      "outputs": [
        {
          "output_type": "stream",
          "name": "stdout",
          "text": [
            "[[5.10000e+00 6.60290e+04]\n",
            " [5.30000e+00 8.30880e+04]\n",
            " [5.90000e+00 8.13630e+04]\n",
            " [6.00000e+00 9.39400e+04]\n",
            " [6.80000e+00 9.17380e+04]\n",
            " [7.10000e+00 9.82730e+04]\n",
            " [4.10000e+00 5.70810e+04]\n",
            " [4.50000e+00 6.11110e+04]\n",
            " [4.90000e+00 6.79380e+04]\n",
            " [3.70000e+00 5.71890e+04]\n",
            " [3.90000e+00 6.32180e+04]\n",
            " [4.00000e+00 5.57940e+04]\n",
            " [4.00000e+00 5.69570e+04]\n",
            " [1.10000e+00 3.93430e+04]\n",
            " [1.30000e+00 4.62050e+04]\n",
            " [1.50000e+00 3.77310e+04]\n",
            " [2.00000e+00 4.35250e+04]\n",
            " [2.20000e+00 3.98910e+04]\n",
            " [2.90000e+00 5.66420e+04]\n",
            " [3.00000e+00 6.01500e+04]\n",
            " [3.20000e+00 5.44450e+04]\n",
            " [3.20000e+00 6.44450e+04]\n",
            " [9.00000e+00 1.05582e+05]\n",
            " [9.50000e+00 1.16969e+05]\n",
            " [9.60000e+00 1.12635e+05]\n",
            " [1.03000e+01 1.22391e+05]\n",
            " [1.05000e+01 1.21872e+05]\n",
            " [7.90000e+00 1.01302e+05]\n",
            " [8.20000e+00 1.13812e+05]\n",
            " [8.70000e+00 1.09431e+05]\n",
            " [1.50000e+00 3.95930e+04]\n",
            " [1.70000e+00 4.64550e+04]\n",
            " [1.90000e+00 3.79810e+04]\n",
            " [2.40000e+00 4.37750e+04]\n",
            " [2.60000e+00 4.01410e+04]\n",
            " [3.30000e+00 5.68920e+04]\n",
            " [1.01000e+01 1.22000e+05]\n",
            " [1.03000e+01 1.21000e+05]\n",
            " [8.10000e+00 1.01000e+05]\n",
            " [8.30000e+00 1.01800e+05]]\n"
          ]
        }
      ]
    },
    {
      "cell_type": "code",
      "metadata": {
        "colab": {
          "base_uri": "https://localhost:8080/",
          "height": 295
        },
        "id": "QQF03YUKmdcF",
        "outputId": "c91070a2-ca25-45ca-ab0b-43406afc8bf5"
      },
      "source": [
        "# Menampilkan data scatter plot\n",
        "\n",
        "plt.scatter(a[:,0], a[:,1], Label='True Position')\n",
        "plt.xlabel('Tahun')\n",
        "plt.ylabel('Gaji')\n",
        "plt.title('Grafik Gaji Karyawan PT. ABC')\n",
        "plt.show()"
      ],
      "execution_count": 41,
      "outputs": [
        {
          "output_type": "display_data",
          "data": {
            "image/png": "[encoded data removed]",
            "text/plain": [
              "<Figure size 432x288 with 1 Axes>"
            ]
          },
          "metadata": {
            "needs_background": "light"
          }
        }
      ]
    },
    {
      "cell_type": "code",
      "metadata": {
        "colab": {
          "base_uri": "https://localhost:8080/"
        },
        "id": "A3U_NDzwoeae",
        "outputId": "4cb65a82-bf03-4def-e160-e13702ed5eff"
      },
      "source": [
        "# Mulai masuk algoritma K-Means\n",
        "\n",
        "kmeans = KMeans(n_clusters=2)\n",
        "kmeans.fit(a)"
      ],
      "execution_count": 42,
      "outputs": [
        {
          "output_type": "execute_result",
          "data": {
            "text/plain": [
              "KMeans(algorithm='auto', copy_x=True, init='k-means++', max_iter=300,\n",
              "       n_clusters=2, n_init=10, n_jobs=None, precompute_distances='auto',\n",
              "       random_state=None, tol=0.0001, verbose=0)"
            ]
          },
          "metadata": {},
          "execution_count": 42
        }
      ]
    },
    {
      "cell_type": "code",
      "metadata": {
        "colab": {
          "base_uri": "https://localhost:8080/"
        },
        "id": "oRz16hE-om6b",
        "outputId": "df4b3a40-3207-4da4-9e1f-38b0d9d46524"
      },
      "source": [
        "# menampilkan nilai centroid, generate oleh algoritma\n",
        "\n",
        "print(kmeans.cluster_centers_)"
      ],
      "execution_count": 43,
      "outputs": [
        {
          "output_type": "stream",
          "name": "stdout",
          "text": [
            "[[8.32941176e+00 1.05776235e+05]\n",
            " [2.95652174e+00 5.18491739e+04]]\n"
          ]
        }
      ]
    },
    {
      "cell_type": "code",
      "metadata": {
        "colab": {
          "base_uri": "https://localhost:8080/"
        },
        "id": "5C3i9MCdorxD",
        "outputId": "659ff033-508b-49b7-d5c3-ba9993d6f36b"
      },
      "source": [
        "# Meanmpilakn label data poin\n",
        "\n",
        "print(kmeans.labels_)"
      ],
      "execution_count": 44,
      "outputs": [
        {
          "output_type": "stream",
          "name": "stdout",
          "text": [
            "[1 0 0 0 0 0 1 1 1 1 1 1 1 1 1 1 1 1 1 1 1 1 0 0 0 0 0 0 0 0 1 1 1 1 1 1 0\n",
            " 0 0 0]\n"
          ]
        }
      ]
    },
    {
      "cell_type": "code",
      "metadata": {
        "colab": {
          "base_uri": "https://localhost:8080/",
          "height": 295
        },
        "id": "7dJYpCP8ov0b",
        "outputId": "9cfc9015-5ddc-4b36-9585-ee3f578dd931"
      },
      "source": [
        "# Output klaterisasi\n",
        "\n",
        "plt.scatter(a[:,0],a[:,1], c=kmeans.labels_, cmap='rainbow')\n",
        "plt.xlabel('Tahun')\n",
        "plt.ylabel('Gaji')\n",
        "plt.title('Grafik Gaji Karyawan PT. ABC')\n",
        "plt.show()"
      ],
      "execution_count": 45,
      "outputs": [
        {
          "output_type": "display_data",
          "data": {
            "image/png": "[encoded data removed]",
            "text/plain": [
              "<Figure size 432x288 with 1 Axes>"
            ]
          },
          "metadata": {
            "needs_background": "light"
          }
        }
      ]
    },
    {
      "cell_type": "code",
      "metadata": {
        "colab": {
          "base_uri": "https://localhost:8080/",
          "height": 295
        },
        "id": "03fCP3nppDz3",
        "outputId": "2a1b997f-ef9d-4563-89a8-ed2ca6cd6012"
      },
      "source": [
        "# Visualisasi cluster dengan cenroid(hitam)\n",
        "\n",
        "plt.scatter(a[:,0],a[:,1], c=kmeans.labels_, cmap='rainbow')\n",
        "plt.scatter(kmeans.cluster_centers_[:,0], kmeans.cluster_centers_[:,1], color='black')\n",
        "plt.xlabel('Tahun')\n",
        "plt.ylabel('Gaji')\n",
        "plt.title('Grafik Gaji Karyawan PT. ABC')\n",
        "plt.show()"
      ],
      "execution_count": 46,
      "outputs": [
        {
          "output_type": "display_data",
          "data": {
            "image/png": "[encoded data removed]",
            "text/plain": [
              "<Figure size 432x288 with 1 Axes>"
            ]
          },
          "metadata": {
            "needs_background": "light"
          }
        }
      ]
    }
  ]
}